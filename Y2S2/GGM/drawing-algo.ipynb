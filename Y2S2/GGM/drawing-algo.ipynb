{
 "cells": [
  {
   "cell_type": "code",
   "execution_count": null,
   "metadata": {},
   "outputs": [],
   "source": [
    "from matplotlib import pyplot as plt\n",
    "from plotly import express as px\n",
    "import pandas as pd"
   ]
  },
  {
   "cell_type": "markdown",
   "metadata": {},
   "source": [
    "## Line Drawing Algos"
   ]
  },
  {
   "cell_type": "markdown",
   "metadata": {},
   "source": [
    "### 1. Digital Differential Analyzer"
   ]
  },
  {
   "cell_type": "code",
   "execution_count": null,
   "metadata": {},
   "outputs": [],
   "source": [
    "def DDA(xi: float, yi: float, xf: float, yf: float) -> list:\n",
    "    dx = xf - xi\n",
    "    dy = yf - yi\n",
    "    points = []\n",
    "    \n",
    "    steps = max(abs(dx), abs(dy))\n",
    "    print(steps)\n",
    "    \n",
    "    xinc = dx/steps\n",
    "    yinc = dy/steps\n",
    "    \n",
    "    x = xi\n",
    "    y = yi\n",
    "    \n",
    "    for _ in range (steps + 1):\n",
    "        # depending upon the round off accurecy changes\n",
    "        # acoording to notes, round off to an integer\n",
    "        points.append((round(x, 0), round(y, 0)))\n",
    "        x += xinc\n",
    "        y += yinc\n",
    "    \n",
    "    print(points)\n",
    "    return points"
   ]
  },
  {
   "cell_type": "code",
   "execution_count": null,
   "metadata": {},
   "outputs": [],
   "source": [
    "x1, y1 = 5, 6\n",
    "x2, y2 = 8, 12\n",
    "\n",
    "line_points = DDA(x1, y1, x2, y2)\n",
    "df = pd.DataFrame(line_points, columns=['X', 'Y'])"
   ]
  },
  {
   "cell_type": "code",
   "execution_count": null,
   "metadata": {},
   "outputs": [],
   "source": [
    "# plot\n",
    "plt.figure(figsize=(10, 10))\n",
    "plt.plot([p[0] for p in line_points], [p[1] for p in line_points], marker='o')\n",
    "plt.title('DDA Line Drawing Algorithm')\n",
    "plt.xlabel('X')\n",
    "plt.ylabel('Y')\n",
    "plt.grid(True)\n",
    "plt.axis('equal')\n",
    "plt.axhline(0, color='black', linewidth=1)\n",
    "plt.axvline(0, color='black', linewidth=1)\n",
    "plt.ion()\n",
    "plt.show()"
   ]
  },
  {
   "cell_type": "code",
   "execution_count": null,
   "metadata": {},
   "outputs": [],
   "source": [
    "# interactive plot\n",
    "fig = px.line(df, x='X', y='Y', title='DDA Line', markers='o')\n",
    "fig.show()"
   ]
  },
  {
   "cell_type": "markdown",
   "metadata": {},
   "source": [
    "### 2. Bresenham Algo"
   ]
  },
  {
   "cell_type": "code",
   "execution_count": null,
   "metadata": {},
   "outputs": [],
   "source": [
    "def BresenhamLine(xi, yi, xf, yf):\n",
    "    dx = xf - xi\n",
    "    dy = yf - yi\n",
    "    points = []\n",
    "    d_values = []\n",
    "\n",
    "    d = 2 * dy - dx\n",
    "\n",
    "    y = yi\n",
    "    for x in range (xi, xf + 1):\n",
    "        points.append((x, y))\n",
    "        d_values.append(d)\n",
    "        \n",
    "        if d < 0:\n",
    "            d += 2 * dy\n",
    "        else:\n",
    "            d += 2 * (dy - dx)\n",
    "            y += 1\n",
    "    \n",
    "    print(points, \"\\n\", d_values)\n",
    "    return points\n",
    "        "
   ]
  },
  {
   "cell_type": "code",
   "execution_count": null,
   "metadata": {},
   "outputs": [],
   "source": [
    "x1, y1 = 20, 10\n",
    "x2, y2 = 30, 18\n",
    "\n",
    "line_points = BresenhamLine(x1, y1, x2, y2)\n",
    "df = pd.DataFrame(line_points, columns=['X', 'Y'])"
   ]
  },
  {
   "cell_type": "code",
   "execution_count": null,
   "metadata": {},
   "outputs": [],
   "source": [
    "# interactive plot\n",
    "fig = px.line(df, x='X', y='Y', title='Bresenham Line', markers='o')\n",
    "fig.show()"
   ]
  },
  {
   "cell_type": "markdown",
   "metadata": {},
   "source": [
    "### 3. Mid Point LDA"
   ]
  },
  {
   "cell_type": "code",
   "execution_count": null,
   "metadata": {},
   "outputs": [],
   "source": [
    "def midPointLDA(x0, y0, xn, yn):\n",
    "    dx = xn - x0\n",
    "    dy = yn - y0\n",
    "    points = []\n",
    "\n",
    "    d = 2 * dy - dx\n",
    "\n",
    "    y = y0\n",
    "    for x in range (x0, xn + 1):\n",
    "        points.append((x, y))\n",
    "        \n",
    "        if d < 0:\n",
    "            d += 2 * dy\n",
    "        else:\n",
    "            d += 2 * (dy - dx)\n",
    "            y += 1\n",
    "    \n",
    "    print(points)\n",
    "    return points\n",
    "        "
   ]
  },
  {
   "cell_type": "markdown",
   "metadata": {},
   "source": [
    "## Circle"
   ]
  },
  {
   "cell_type": "markdown",
   "metadata": {},
   "source": [
    "### 1. Midpoint CDA"
   ]
  },
  {
   "cell_type": "code",
   "execution_count": null,
   "metadata": {},
   "outputs": [],
   "source": [
    "def plotPoints(xc, yc, points):\n",
    "    pts = []\n",
    "    # oct 1\n",
    "    for p in range(0, len(points)):\n",
    "        pts.append([xc + points[p][0], yc + points[p][1]])\n",
    "\n",
    "    # oct 2\n",
    "    for p in range(len(points) - 1, -1, -1):\n",
    "        pts.append([xc + points[p][1], yc + points[p][0]])\n",
    "\n",
    "    # oct 3\n",
    "    for p in range(0, len(points)):\n",
    "        pts.append([xc + points[p][1], yc - points[p][0]])\n",
    "        \n",
    "    # oct 4\n",
    "    for p in range(len(points) - 1, -1, -1):\n",
    "        pts.append([xc + points[p][0], yc - points[p][1]])\n",
    "\n",
    "    # oct 5\n",
    "    for p in range(0, len(points)):\n",
    "        pts.append([xc - points[p][0], yc - points[p][1]])\n",
    "\n",
    "    # oct 6\n",
    "    for p in range(len(points) - 1, -1, -1):\n",
    "        pts.append([xc - points[p][1], yc - points[p][0]])\n",
    "\n",
    "    # oct 7\n",
    "    for p in range(0, len(points)):\n",
    "        pts.append([xc - points[p][1], yc + points[p][0]])\n",
    "        \n",
    "    # oct 8\n",
    "    for p in range(len(points) - 1, -1, -1):\n",
    "        pts.append([xc - points[p][0], yc + points[p][1]])\n",
    "\n",
    "    return pts\n",
    "\n",
    "def midPointCDA(x_center, y_center, radius):\n",
    "    x = 0\n",
    "    y = radius\n",
    "    points_xy = []\n",
    "    \n",
    "    d = 1 - radius\n",
    "    \n",
    "    points_xy.append((x, y))\n",
    "    \n",
    "    while x <= y :\n",
    "        # points_xy.append((x, y))\n",
    "        # x += 1\n",
    "        \n",
    "        if d < 0:\n",
    "            d += 2 * x + 1\n",
    "        else:\n",
    "            y -= 1\n",
    "            d += 2 * (x - y) + 1\n",
    "        \n",
    "        x += 1\n",
    "        points_xy.append((x, y))\n",
    "            \n",
    "    points = plotPoints(x_center, y_center, points_xy)\n",
    "    \n",
    "    size = len(points)\n",
    "    i = 0\n",
    "    for p in points:\n",
    "        print(p, end=\" \")\n",
    "        i += 1\n",
    "        \n",
    "        if i % (size / 8) == 0:\n",
    "            print()\n",
    "    return points"
   ]
  },
  {
   "cell_type": "code",
   "execution_count": null,
   "metadata": {},
   "outputs": [],
   "source": [
    "points = midPointCDA(4, -4, 10)\n",
    "\n",
    "df = pd.DataFrame(points, columns=['X', 'Y'])"
   ]
  },
  {
   "cell_type": "code",
   "execution_count": null,
   "metadata": {},
   "outputs": [],
   "source": [
    "# interactive plot\n",
    "fig = px.line(df, x='X', y='Y', title='Mid Point Circle', markers='o')\n",
    "fig.show()"
   ]
  },
  {
   "cell_type": "markdown",
   "metadata": {},
   "source": [
    "### 2. Bresenham CDA"
   ]
  },
  {
   "cell_type": "code",
   "execution_count": null,
   "metadata": {},
   "outputs": [],
   "source": [
    "def plotPoints(xc, yc, points):\n",
    "    pts = []\n",
    "    # oct 1\n",
    "    for p in range(0, len(points)):\n",
    "        pts.append([xc + points[p][0], yc + points[p][1]])\n",
    "\n",
    "    # oct 2\n",
    "    for p in range(len(points) - 1, -1, -1):\n",
    "        pts.append([xc + points[p][1], yc + points[p][0]])\n",
    "\n",
    "    # oct 3\n",
    "    for p in range(0, len(points)):\n",
    "        pts.append([xc + points[p][1], yc - points[p][0]])\n",
    "        \n",
    "    # oct 4\n",
    "    for p in range(len(points) - 1, -1, -1):\n",
    "        pts.append([xc + points[p][0], yc - points[p][1]])\n",
    "\n",
    "    # oct 5\n",
    "    for p in range(0, len(points)):\n",
    "        pts.append([xc - points[p][0], yc - points[p][1]])\n",
    "\n",
    "    # oct 6\n",
    "    for p in range(len(points) - 1, -1, -1):\n",
    "        pts.append([xc - points[p][1], yc - points[p][0]])\n",
    "\n",
    "    # oct 7\n",
    "    for p in range(0, len(points)):\n",
    "        pts.append([xc - points[p][1], yc + points[p][0]])\n",
    "        \n",
    "    # oct 8\n",
    "    for p in range(len(points) - 1, -1, -1):\n",
    "        pts.append([xc - points[p][0], yc + points[p][1]])\n",
    "\n",
    "    return pts\n",
    "\n",
    "def BresenhamCDA(x_center, y_center, radius):\n",
    "    x = 0\n",
    "    y = radius\n",
    "    points_xy = []\n",
    "    \n",
    "    d = 3 - 2 * radius\n",
    "    \n",
    "    points_xy.append((x, y))\n",
    "    while x <= y:\n",
    "        # points_xy.append((x, y))\n",
    "        # x += 1\n",
    "        \n",
    "        if d < 0:\n",
    "            d += 4 * x + 6\n",
    "        else:\n",
    "            y -= 1\n",
    "            d += 4 * (x - y) + 10\n",
    "        x += 1\n",
    "        points_xy.append((x, y))\n",
    "            \n",
    "    points = plotPoints(x_center, y_center, points_xy)\n",
    "    \n",
    "    size = len(points)\n",
    "    i = 0\n",
    "    for p in points:\n",
    "        print(p, end=\" \")\n",
    "        i += 1\n",
    "        \n",
    "        if i % (size / 8) == 0:\n",
    "            print()\n",
    "    return points"
   ]
  },
  {
   "cell_type": "code",
   "execution_count": null,
   "metadata": {},
   "outputs": [],
   "source": [
    "points = BresenhamCDA(4, -4, 10)\n",
    "\n",
    "df = pd.DataFrame(points, columns=['X', 'Y'])"
   ]
  },
  {
   "cell_type": "code",
   "execution_count": null,
   "metadata": {},
   "outputs": [],
   "source": [
    "# interactive plot\n",
    "fig = px.line(df, x='X', y='Y', title='Bresenham Circle', markers='o')\n",
    "fig.show()"
   ]
  }
 ],
 "metadata": {
  "kernelspec": {
   "display_name": "Python 3",
   "language": "python",
   "name": "python3"
  },
  "language_info": {
   "codemirror_mode": {
    "name": "ipython",
    "version": 3
   },
   "file_extension": ".py",
   "mimetype": "text/x-python",
   "name": "python",
   "nbconvert_exporter": "python",
   "pygments_lexer": "ipython3",
   "version": "3.10.12"
  }
 },
 "nbformat": 4,
 "nbformat_minor": 2
}
