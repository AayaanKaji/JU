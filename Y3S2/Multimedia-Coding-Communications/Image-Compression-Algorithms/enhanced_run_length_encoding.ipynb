{
 "cells": [
  {
   "cell_type": "markdown",
   "metadata": {
    "id": "gLrV5ExsvNnV"
   },
   "source": [
    "# Imports & Utils"
   ]
  },
  {
   "cell_type": "code",
   "execution_count": 45,
   "metadata": {
    "executionInfo": {
     "elapsed": 7,
     "status": "ok",
     "timestamp": 1744067076525,
     "user": {
      "displayName": "Kaji Manirul Islam",
      "userId": "11469778682273590903"
     },
     "user_tz": -330
    },
    "id": "hzXFCFj59qkD"
   },
   "outputs": [],
   "source": [
    "import os\n",
    "from PIL import Image\n",
    "import numpy as np\n",
    "import struct"
   ]
  },
  {
   "cell_type": "markdown",
   "metadata": {
    "id": "k8m-Cs08EPPa"
   },
   "source": [
    "# Encoder & Decoder Functions"
   ]
  },
  {
   "cell_type": "markdown",
   "metadata": {
    "id": "9wbS1N2NvNnd"
   },
   "source": [
    "- input: (b1 r1 times) b2 b3 (b4 r2 times) b5\n",
    "- b is repeated r times (the frequency of b)\n",
    "- output: b1 r1 b2 1 b3 1 b4 r2 b5 1"
   ]
  },
  {
   "cell_type": "code",
   "execution_count": 25,
   "metadata": {
    "executionInfo": {
     "elapsed": 3,
     "status": "ok",
     "timestamp": 1744066886591,
     "user": {
      "displayName": "Kaji Manirul Islam",
      "userId": "11469778682273590903"
     },
     "user_tz": -330
    },
    "id": "jecECucFvNne"
   },
   "outputs": [],
   "source": [
    "def erle_encoder_v1(arr_1D, threshold=10):\n",
    "    encoded_1D = []\n",
    "    length = len(arr_1D)\n",
    "    i = 0\n",
    "    count = 1\n",
    "    while i < length:\n",
    "        # last character\n",
    "        if i == length - 1:\n",
    "            encoded_1D.append(arr_1D[i])\n",
    "            encoded_1D.append(count)\n",
    "            break\n",
    "        # Check the threshold condition using a while loop for adjacent elements\n",
    "        byte = arr_1D[i]\n",
    "        while i + 1 < length and abs(byte - arr_1D[i + 1]) <= threshold and count < 255:\n",
    "            count += 1\n",
    "            i += 1  # Move to the next element\n",
    "\n",
    "        # Add the current element and the count\n",
    "        encoded_1D.append(byte)\n",
    "        encoded_1D.append(count)\n",
    "\n",
    "        i += 1\n",
    "        count = 1\n",
    "\n",
    "    return encoded_1D"
   ]
  },
  {
   "cell_type": "code",
   "execution_count": 26,
   "metadata": {
    "executionInfo": {
     "elapsed": 72,
     "status": "ok",
     "timestamp": 1744066886674,
     "user": {
      "displayName": "Kaji Manirul Islam",
      "userId": "11469778682273590903"
     },
     "user_tz": -330
    },
    "id": "QwCvbXRgvNne"
   },
   "outputs": [],
   "source": [
    "def erle_decoder_v1(encoded_1D):\n",
    "    decoded_1D = []\n",
    "    i = 0\n",
    "\n",
    "    while i < len(encoded_1D):\n",
    "        byte = encoded_1D[i]\n",
    "        count = 1\n",
    "        if i + 1 < len(encoded_1D):\n",
    "            i += 1\n",
    "            count = encoded_1D[i]\n",
    "\n",
    "        for _ in range(count):\n",
    "            decoded_1D.append(byte)\n",
    "        i += 1\n",
    "\n",
    "    return decoded_1D"
   ]
  },
  {
   "cell_type": "markdown",
   "metadata": {
    "id": "8UJ-7Qwd30E7"
   },
   "source": [
    "- input: (b1 r1 times) b2 b3 (b4 r2 times) b5\n",
    "- b is repeated r times (the frequency of b)\n",
    "- output: 0 b1 r1 b2 b3 0 b4 r2 b5\n",
    "- 0 (special character) specifies that, the next byte, in this case, b1 has a frequency of r1\n",
    "- In case of r = 1, we ignore that\n",
    "- the output can't end with zero"
   ]
  },
  {
   "cell_type": "code",
   "execution_count": 27,
   "metadata": {
    "executionInfo": {
     "elapsed": 11,
     "status": "ok",
     "timestamp": 1744066886684,
     "user": {
      "displayName": "Kaji Manirul Islam",
      "userId": "11469778682273590903"
     },
     "user_tz": -330
    },
    "id": "PuWMF-EHiPGR"
   },
   "outputs": [],
   "source": [
    "def erle_encoder_v2(arr_1D, threshold=10):\n",
    "    encoded_1D = []\n",
    "    separator = 0\n",
    "\n",
    "    i = 0\n",
    "    while i < len(arr_1D):\n",
    "        byte = arr_1D[i]\n",
    "        count = 1\n",
    "        # one byte can store upto 255\n",
    "        while i + 1 < len(arr_1D) and abs(byte -  arr_1D[i+1]) <= threshold and count < 255:\n",
    "            count += 1\n",
    "            i += 1\n",
    "\n",
    "        if count > 1 or byte == separator:\n",
    "            encoded_1D.append(separator)\n",
    "            encoded_1D.append(byte)\n",
    "            encoded_1D.append(count)\n",
    "        else:\n",
    "            encoded_1D.append(byte)\n",
    "        i += 1\n",
    "\n",
    "    return encoded_1D"
   ]
  },
  {
   "cell_type": "code",
   "execution_count": 28,
   "metadata": {
    "executionInfo": {
     "elapsed": 10,
     "status": "ok",
     "timestamp": 1744066886687,
     "user": {
      "displayName": "Kaji Manirul Islam",
      "userId": "11469778682273590903"
     },
     "user_tz": -330
    },
    "id": "fmD8InTn3vok"
   },
   "outputs": [],
   "source": [
    "def erle_decoder_v2(encoded_1D):\n",
    "    decoded_1D = []\n",
    "    separator = 0\n",
    "\n",
    "    i = 0\n",
    "    while i < len(encoded_1D):\n",
    "        byte = encoded_1D[i]\n",
    "        count = 1\n",
    "\n",
    "        if byte == separator:\n",
    "            count = 0 # reset the count\n",
    "            if i < len(encoded_1D) - 1:\n",
    "                i += 1\n",
    "                byte = encoded_1D[i]\n",
    "            if i < len(encoded_1D) - 1:\n",
    "                i += 1\n",
    "                count = encoded_1D[i]\n",
    "\n",
    "        for _ in range(count):\n",
    "            decoded_1D.append(byte)\n",
    "\n",
    "        i += 1\n",
    "\n",
    "    return decoded_1D"
   ]
  },
  {
   "cell_type": "markdown",
   "metadata": {
    "id": "a548OQtREWCh"
   },
   "source": [
    "# Helper Functions"
   ]
  },
  {
   "cell_type": "code",
   "execution_count": 64,
   "metadata": {
    "executionInfo": {
     "elapsed": 20,
     "status": "ok",
     "timestamp": 1744067648438,
     "user": {
      "displayName": "Kaji Manirul Islam",
      "userId": "11469778682273590903"
     },
     "user_tz": -330
    },
    "id": "nX7bQqEq_bmJ"
   },
   "outputs": [],
   "source": [
    "def erel_interface_image_compression(image_file, compressed_file, threshold=10, version=1):\n",
    "    if version not in [1, 2]:\n",
    "        raise ValueError(\"Invalid option! Please use 1 or 2.\")\n",
    "\n",
    "    image = Image.open(image_file)\n",
    "    image_data = np.array(image)\n",
    "    image_shape = image_data.shape\n",
    "    image_array_1D = image_data.flatten()\n",
    "\n",
    "    encoder_functions = {1: erle_encoder_v1, 2: erle_encoder_v2}\n",
    "    image_compressed = encoder_functions[version](image_array_1D, threshold)\n",
    "\n",
    "    # save compressed data\n",
    "    with open(compressed_file, \"wb\") as f:\n",
    "        height, width, *channels = image_shape\n",
    "        shape_str = f\"{height}x{width}\" + (f\"x{channels[0]}\" if channels else \"\")\n",
    "        f.write(f\"{shape_str}\\n\".encode())\n",
    "        f.write(bytearray(image_compressed))"
   ]
  },
  {
   "cell_type": "code",
   "execution_count": 65,
   "metadata": {
    "executionInfo": {
     "elapsed": 7,
     "status": "ok",
     "timestamp": 1744067648449,
     "user": {
      "displayName": "Kaji Manirul Islam",
      "userId": "11469778682273590903"
     },
     "user_tz": -330
    },
    "id": "qVyPPtKjvNni"
   },
   "outputs": [],
   "source": [
    "def erel_interface_image_decompression(compressed_file, image_file, version=1):\n",
    "    if version not in [1, 2]:\n",
    "        raise ValueError(\"Invalid option! Please use 1 or 2.\")\n",
    "\n",
    "    with open(compressed_file, \"rb\") as f:\n",
    "        shape_line = f.readline().decode().strip()\n",
    "        shape = tuple(map(int, shape_line.split('x')))\n",
    "        compressed_data = list(f.read())\n",
    "\n",
    "    decoder_functions = {1: erle_decoder_v1, 2: erle_decoder_v2}\n",
    "    decompressed_1D = decoder_functions[version](compressed_data)\n",
    "\n",
    "    decompressed_2D = np.array(decompressed_1D, dtype=np.uint8).reshape(shape)\n",
    "\n",
    "    image = Image.fromarray(decompressed_2D)\n",
    "    image.save(image_file)"
   ]
  },
  {
   "cell_type": "code",
   "execution_count": 66,
   "metadata": {
    "executionInfo": {
     "elapsed": 3,
     "status": "ok",
     "timestamp": 1744067648486,
     "user": {
      "displayName": "Kaji Manirul Islam",
      "userId": "11469778682273590903"
     },
     "user_tz": -330
    },
    "id": "X2AvejfTvNni"
   },
   "outputs": [],
   "source": [
    "def erel_interface_image_multichannel_compression(image_file, compressed_file, threshold=10, version=1):\n",
    "    if version not in [1, 2]:\n",
    "        raise ValueError(\"Invalid option! Please use 1 or 2.\")\n",
    "\n",
    "    image = Image.open(image_file).convert(\"RGB\")\n",
    "    image_data = np.array(image)\n",
    "    height, width, channels = image_data.shape\n",
    "\n",
    "    compressed_channels = []\n",
    "    for c in range(channels):\n",
    "        flat_channel = image_data[:, :, c].flatten()\n",
    "\n",
    "        encoder_functions = {1: erle_encoder_v1, 2: erle_encoder_v2}\n",
    "        compressed_channels.append(encoder_functions[version](flat_channel, threshold))\n",
    "\n",
    "    with open(compressed_file, \"wb\") as f:\n",
    "        f.write(struct.pack(\"III\", height, width, channels))\n",
    "        for ch in compressed_channels:\n",
    "            # store channel size\n",
    "            f.write(struct.pack(\"I\", len(ch)))\n",
    "            f.write(bytearray(ch))"
   ]
  },
  {
   "cell_type": "code",
   "execution_count": 67,
   "metadata": {
    "executionInfo": {
     "elapsed": 13,
     "status": "ok",
     "timestamp": 1744067648502,
     "user": {
      "displayName": "Kaji Manirul Islam",
      "userId": "11469778682273590903"
     },
     "user_tz": -330
    },
    "id": "XOqm7KUuvNnj"
   },
   "outputs": [],
   "source": [
    "def erel_interface_image_multichannel_decompression(compressed_file, output_image, version=1):\n",
    "    if version not in [1, 2]:\n",
    "        raise ValueError(\"Invalid option! Please use 1 or 2.\")\n",
    "\n",
    "    with open(compressed_file, \"rb\") as f:\n",
    "        height, width, channels = struct.unpack(\"III\", f.read(12))\n",
    "\n",
    "        compressed_channels = []\n",
    "        for _ in range(channels):\n",
    "            channel_size = struct.unpack(\"I\", f.read(4))[0]\n",
    "            compressed_channels.append(list(f.read(channel_size)))\n",
    "\n",
    "    decoder_functions = {1: erle_decoder_v1, 2: erle_decoder_v2}\n",
    "    decompressed_channels = [decoder_functions[version](ch) for ch in compressed_channels]\n",
    "\n",
    "    image_data = np.zeros((height, width, channels), dtype=np.uint8)\n",
    "    for c in range(channels):\n",
    "        image_data[:, :, c] = np.array(decompressed_channels[c], dtype=np.uint8).reshape(height, width)\n",
    "\n",
    "    image = Image.fromarray(image_data, mode=\"RGBA\" if channels == 4 else \"RGB\")\n",
    "    image.save(output_image)"
   ]
  },
  {
   "cell_type": "markdown",
   "metadata": {
    "id": "pqyvWcBWD_lS"
   },
   "source": [
    "# Print Functions"
   ]
  },
  {
   "cell_type": "code",
   "execution_count": 41,
   "metadata": {
    "executionInfo": {
     "elapsed": 45,
     "status": "ok",
     "timestamp": 1744067063191,
     "user": {
      "displayName": "Kaji Manirul Islam",
      "userId": "11469778682273590903"
     },
     "user_tz": -330
    },
    "id": "BN2UXA6a9hAx"
   },
   "outputs": [],
   "source": [
    "def file_details(file_path):\n",
    "    if os.path.exists(file_path):\n",
    "        print(f\"File Name: {os.path.basename(file_path)}\")\n",
    "        print(f\"File Size: {os.path.getsize(file_path)} bytes\")\n",
    "    else:\n",
    "        print(\"File does not exist.\")"
   ]
  },
  {
   "cell_type": "code",
   "execution_count": 42,
   "metadata": {
    "executionInfo": {
     "elapsed": 13,
     "status": "ok",
     "timestamp": 1744067063207,
     "user": {
      "displayName": "Kaji Manirul Islam",
      "userId": "11469778682273590903"
     },
     "user_tz": -330
    },
    "id": "MoCYMpemvNnj"
   },
   "outputs": [],
   "source": [
    "def calculate_compression_ratio(original_file, compressed_file):\n",
    "    original_size = os.path.getsize(original_file)\n",
    "    compressed_size = os.path.getsize(compressed_file)\n",
    "\n",
    "    if compressed_size == 0:\n",
    "        return float('inf'), 100.0\n",
    "\n",
    "    compression_ratio = original_size / compressed_size\n",
    "    compression_factor = (1 - (compressed_size / original_size)) * 100\n",
    "\n",
    "    return compression_ratio, compression_factor"
   ]
  },
  {
   "cell_type": "code",
   "execution_count": 43,
   "metadata": {
    "executionInfo": {
     "elapsed": 3,
     "status": "ok",
     "timestamp": 1744067063211,
     "user": {
      "displayName": "Kaji Manirul Islam",
      "userId": "11469778682273590903"
     },
     "user_tz": -330
    },
    "id": "K7fOUlrXvNnj"
   },
   "outputs": [],
   "source": [
    "def show(image_file):\n",
    "    image = Image.open(image_file)\n",
    "    image.show(image)"
   ]
  },
  {
   "cell_type": "markdown",
   "metadata": {
    "id": "oGutHlubDD6d"
   },
   "source": [
    "# Interface"
   ]
  },
  {
   "cell_type": "code",
   "execution_count": null,
   "metadata": {
    "colab": {
     "base_uri": "https://localhost:8080/"
    },
    "executionInfo": {
     "elapsed": 973,
     "status": "ok",
     "timestamp": 1744067756083,
     "user": {
      "displayName": "Kaji Manirul Islam",
      "userId": "11469778682273590903"
     },
     "user_tz": -330
    },
    "id": "CqSK7FsyvNnk",
    "outputId": "640c81a9-6f11-445e-ce37-8171e21b5d63"
   },
   "outputs": [
    {
     "name": "stdout",
     "output_type": "stream",
     "text": [
      "File Name: Color500.bmp\n",
      "File Size: 750054 bytes\n"
     ]
    },
    {
     "name": "stderr",
     "output_type": "stream",
     "text": [
      "<ipython-input-27-5393dc071a96>:10: RuntimeWarning: overflow encountered in scalar subtract\n",
      "  while i + 1 < len(arr_1D) and abs(byte -  arr_1D[i+1]) <= threshold and count < 255:\n"
     ]
    },
    {
     "name": "stdout",
     "output_type": "stream",
     "text": [
      "File Name: compressed_file.bin\n",
      "File Size: 644200 bytes\n",
      "Compression ratio:  1.1643185346165787\n",
      "File Name: decompressed_image.bmp\n",
      "File Size: 750054 bytes\n"
     ]
    }
   ],
   "source": [
    "image_file = \"Color500.bmp\"\n",
    "file_details(image_file)\n",
    "\n",
    "compression_interfaces = {1: erel_interface_image_compression, 2: erel_interface_image_multichannel_compression}\n",
    "decompression_interfaces = {1: erel_interface_image_decompression, 2: erel_interface_image_multichannel_decompression}\n",
    "\n",
    "interface = 2\n",
    "encoder_version = 2\n",
    "threshold = 10 # In case of RLE, threshold is zero\n",
    "\n",
    "compressed_file = \"compressed_file.bin\"\n",
    "compression_interfaces[interface](image_file, compressed_file, threshold, encoder_version)\n",
    "file_details(compressed_file)\n",
    "\n",
    "print(\"Compression ratio: \", calculate_compression_ratio(image_file, compressed_file)[0])\n",
    "\n",
    "decompressed_image_file = \"decompressed_image.bmp\"\n",
    "decompression_interfaces[interface](compressed_file, decompressed_image_file, encoder_version)\n",
    "file_details(decompressed_image_file)\n",
    "\n",
    "# show(image_file)\n",
    "# show(decompressed_image_file)"
   ]
  }
 ],
 "metadata": {
  "colab": {
   "collapsed_sections": [
    "gLrV5ExsvNnV",
    "a548OQtREWCh",
    "pqyvWcBWD_lS"
   ],
   "provenance": []
  },
  "kernelspec": {
   "display_name": ".venv",
   "language": "python",
   "name": "python3"
  },
  "language_info": {
   "codemirror_mode": {
    "name": "ipython",
    "version": 3
   },
   "file_extension": ".py",
   "mimetype": "text/x-python",
   "name": "python",
   "nbconvert_exporter": "python",
   "pygments_lexer": "ipython3",
   "version": "3.11.2"
  }
 },
 "nbformat": 4,
 "nbformat_minor": 0
}
